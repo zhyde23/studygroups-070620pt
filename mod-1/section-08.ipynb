{
 "cells": [
  {
   "cell_type": "markdown",
   "metadata": {},
   "source": [
    "# Section 08: Other Database Structures"
   ]
  },
  {
   "cell_type": "markdown",
   "metadata": {},
   "source": [
    "## Document Stores\n",
    "\n",
    "A **_Document Store_** is a database that stores records as unique documents in the database. These documents can be arbitrarily long, and can even contain other documents inside of them! The chat log example we saw above is a prime use case for a document store. In a document store, we could store each message and its accompanying metadata as a document, and then embed each of those documents in order in a chat document. In this way, we can easily access the data as needed. \n",
    "\n",
    "In these Document Stores, each document contains key-value pairs, with the actual data being stored in as the value. This makes Document Stores incredibly flexible, because each document can be unique. There is no constraint saying each document must have the same keys! This makes it great for working with data where we don't know what shape it will take (as we saw above, with chat logs that can be arbitrarily long or short), or perhaps when we don't know what data will be stored at all. This would be a problem in a relational database, because we would need to know what column the data belongs in before we could store it. With a Document Store, we can just create a key on the fly for the data that matters to us!\n",
    "\n",
    "Note that while this flexibility makes it easy for us to store data on the fly, this also makes it harder for us to query data and get exactly what we need. Since each different document can potentially have its own **_Schema_**, this means that we have to know what we are looking for. This also means that we have to be diligent in our naming conventions, because `chatLog` is different than `ChatLog`. This means that if we run a query across all documents to get all data with the key `chatLog`, we'll completely miss any data where they key is written as `ChatLog`!"
   ]
  },
  {
   "cell_type": "markdown",
   "metadata": {},
   "source": [
    "## Installing MongoDB\n",
    "\n",
    "In this lesson, we'll learn about the popular NoSQL database **_MongoDB_**, including how to install it on our machine, connect to a mongo database, add how to use it to **_C_**reate / **_R_**ead / **_U_**pdate / **_D_**elete (**CRUD**) data!\n",
    "\n",
    "\n",
    "This part is easy -- in order to install mongoDB, we'll use our favorite package manager, `conda`! This part works the same, regardless of what operating system you're running. \n",
    "\n",
    "To install MongoDB on your machine, open a terminal or `conda` command prompt and just type: \n",
    "\n",
    "`conda install mongodb`\n",
    "\n",
    "Next, we have to create a directory to store our Mongo data files: \n",
    "\n",
    "`sudo mkdir -p /data/db`\n",
    "\n",
    "Give the directory the correct permission: \n",
    "\n",
    "``sudo chown -R `id -un` /data/db``\n",
    "\n",
    "\n",
    "Now we're ready to run our server! In that same command prompt, just type `mongod`. You'll see the server start up instantly.  Note that you must leave this terminal process running in order to make use of the mongoDB instance, so you'll need to leave this one alone, and open a new terminal or command prompt window when you need it.\n",
    "\n",
    "## Working with Mongodb through Python with `pymongo`\n",
    "\n",
    "Connecting to mongodb through a python library is going to feel very similar to the boilerplate code we had to use to connect to a SQLite database. To connect to our mongo server through python, we have to:\n",
    "\n",
    "1. Import the `pymongo` library. \n",
    "\n",
    "2. Create a client that is connected to our running mongodb server by using the `pymongo` library's `MongoClient` object and passing it the URL for the server (which the mongo server told us as output when we started it up at the very beginning).\n",
    "\n",
    "3. Get the database that we'll be working with from the `myclient` object -- this can include creating a new database by passing in it's name as a key, just as if we were trying to get it from a Python dictionary.  \n",
    "\n",
    "We'll do this now in the cells below as an example. "
   ]
  },
  {
   "cell_type": "code",
   "execution_count": null,
   "metadata": {},
   "outputs": [],
   "source": [
    "import pymongo\n",
    "\n",
    "import requests\n",
    "from bs4 import BeautifulSoup"
   ]
  },
  {
   "cell_type": "code",
   "execution_count": null,
   "metadata": {},
   "outputs": [],
   "source": [
    "myclient = pymongo.MongoClient(\"mongodb://127.0.0.1:27017/\") # connecting to Mongo"
   ]
  },
  {
   "cell_type": "code",
   "execution_count": null,
   "metadata": {},
   "outputs": [],
   "source": [
    "print(myclient.list_database_names()) # these are databases that exist by default"
   ]
  },
  {
   "cell_type": "markdown",
   "metadata": {},
   "source": [
    "## Getting Data from the Internet (Section 10 Preview)\n",
    "\n",
    "I'm gonna grab data from http://quotes.toscrape.com/"
   ]
  },
  {
   "cell_type": "code",
   "execution_count": null,
   "metadata": {},
   "outputs": [],
   "source": [
    "def get_some_quotes(url):\n",
    "    # Make a get request to retrieve the page\n",
    "    html_page = requests.get(url) \n",
    "    # Pass the page contents to beautiful soup for parsing\n",
    "    soup = BeautifulSoup(html_page.content, 'html.parser')\n",
    "        \n",
    "    list_quotes = []\n",
    "    for i in soup.find_all(class_=\"quote\"):\n",
    "        quotes = {}\n",
    "        quote = (i.find(class_=\"text\").text)\n",
    "        quotes['quote'] = quote\n",
    "        list_quotes.append(quotes)\n",
    "        author = i.find(class_ = \"author\").text\n",
    "        quotes['author'] = author\n",
    "    return list_quotes"
   ]
  },
  {
   "cell_type": "code",
   "execution_count": null,
   "metadata": {},
   "outputs": [],
   "source": [
    "quotes_for_mongo = get_some_quotes('http://quotes.toscrape.com/' )\n",
    "quotes_for_mongo"
   ]
  },
  {
   "cell_type": "markdown",
   "metadata": {},
   "source": [
    "## Creating the Database and Inserting Data into Mongo"
   ]
  },
  {
   "cell_type": "code",
   "execution_count": null,
   "metadata": {},
   "outputs": [],
   "source": [
    "mydb = myclient['quote_database'] \n",
    "mycollection = mydb['quote_collection']"
   ]
  },
  {
   "cell_type": "code",
   "execution_count": null,
   "metadata": {},
   "outputs": [],
   "source": [
    "print(myclient.list_database_names())"
   ]
  },
  {
   "cell_type": "code",
   "execution_count": null,
   "metadata": {},
   "outputs": [],
   "source": [
    "delete_collection = mycollection.delete_many({}) # this deletes the collection! use to reset db"
   ]
  },
  {
   "cell_type": "markdown",
   "metadata": {},
   "source": [
    "Note that we can get a full list of the names of every database we have by running our clients object's `.list_database_names()` method. However, if we run this method in the cell below, we'll see that the database does not yet exist. \n",
    "\n",
    "This is because mongoDB doesn't actually create the new database until we have stored some data in it. The act of not doing something until absolutely necessary because another operation needs it is a programming concept called **_lazy execution_**. Since our `example_database` database doesn't contain any data yet, mongo hasn't created it yet, so it doesn't show up in the output of our `.list_database_names()` call. \n",
    "\n",
    "Just as a SQL database has tables, a mongo database has **_Collections_** of documents. We can get a collection or create a new one by passing its name to the database object we created, just like when we passed the database name to the client object. \n"
   ]
  },
  {
   "cell_type": "code",
   "execution_count": null,
   "metadata": {},
   "outputs": [],
   "source": [
    "results = mycollection.insert_many(quotes_for_mongo)"
   ]
  },
  {
   "cell_type": "code",
   "execution_count": null,
   "metadata": {},
   "outputs": [],
   "source": [
    "print(myclient.list_database_names())"
   ]
  },
  {
   "cell_type": "code",
   "execution_count": null,
   "metadata": {},
   "outputs": [],
   "source": [
    "results.inserted_ids"
   ]
  },
  {
   "cell_type": "markdown",
   "metadata": {},
   "source": [
    "## Querying Data from Mongo"
   ]
  },
  {
   "cell_type": "code",
   "execution_count": null,
   "metadata": {},
   "outputs": [],
   "source": [
    "mycollection.find({'author':'Albert Einstein'})"
   ]
  },
  {
   "cell_type": "code",
   "execution_count": null,
   "metadata": {},
   "outputs": [],
   "source": [
    "query = mycollection.find({'author':'Albert Einstein'})\n",
    "\n",
    "for x in query:\n",
    "    print(x)"
   ]
  },
  {
   "cell_type": "markdown",
   "metadata": {},
   "source": [
    "## Updating Data to Mongo"
   ]
  },
  {
   "cell_type": "code",
   "execution_count": null,
   "metadata": {},
   "outputs": [],
   "source": [
    "steve_tags = ['change', 'deep-thoughts', 'thinking', 'world']"
   ]
  },
  {
   "cell_type": "code",
   "execution_count": null,
   "metadata": {},
   "outputs": [],
   "source": [
    "update_steve = {'author': 'Steve Martin'} # which subset of data to update\n",
    "steve_quote_tags = {'$set': {'quote_tags': steve_tags}} # what new data to add\n",
    "\n",
    "mycollection.update_one(update_steve, steve_quote_tags)"
   ]
  },
  {
   "cell_type": "code",
   "execution_count": null,
   "metadata": {},
   "outputs": [],
   "source": [
    "query2 = mycollection.find({'author': 'Steve Martin'})\n",
    "for item in query2:\n",
    "    print(item)"
   ]
  },
  {
   "cell_type": "markdown",
   "metadata": {},
   "source": [
    "## Deleting Data from Mongo"
   ]
  },
  {
   "cell_type": "code",
   "execution_count": null,
   "metadata": {},
   "outputs": [],
   "source": [
    "# delete all Albert Einstein quotes\n",
    "\n",
    "deletion_1 = mycollection.delete_one({'author': 'Albert Einstein'})\n",
    "print(deletion_1.deleted_count)"
   ]
  },
  {
   "cell_type": "code",
   "execution_count": null,
   "metadata": {},
   "outputs": [],
   "source": [
    "query = mycollection.find({'author':'Albert Einstein'})\n",
    "\n",
    "for x in query:\n",
    "    print(x)"
   ]
  },
  {
   "cell_type": "code",
   "execution_count": null,
   "metadata": {},
   "outputs": [],
   "source": []
  },
  {
   "cell_type": "code",
   "execution_count": null,
   "metadata": {},
   "outputs": [],
   "source": []
  }
 ],
 "metadata": {
  "kernelspec": {
   "display_name": "Python 3",
   "language": "python",
   "name": "python3"
  },
  "language_info": {
   "codemirror_mode": {
    "name": "ipython",
    "version": 3
   },
   "file_extension": ".py",
   "mimetype": "text/x-python",
   "name": "python",
   "nbconvert_exporter": "python",
   "pygments_lexer": "ipython3",
   "version": "3.7.6"
  },
  "toc": {
   "base_numbering": 1,
   "nav_menu": {},
   "number_sections": false,
   "sideBar": true,
   "skip_h1_title": false,
   "title_cell": "Table of Contents",
   "title_sidebar": "Contents",
   "toc_cell": false,
   "toc_position": {},
   "toc_section_display": true,
   "toc_window_display": false
  }
 },
 "nbformat": 4,
 "nbformat_minor": 4
}
